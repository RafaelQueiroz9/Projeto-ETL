{
 "cells": [
  {
   "cell_type": "markdown",
   "metadata": {},
   "source": [
    "# Integração Python e SQL\n",
    "\n",
    "### Objetivo\n",
    "\n",
    "Este código executa a extração dos dados de um arquivo CSV (no caminho especificado), conecta-se ao SQL Server usando SQLAlchemy e insere os dados em uma tabela chamada 'Camada_bruta'. Cada etapa foi cuidadosamente organizada para garantir a manipulação eficaz e segura dos dados entre diferentes ferramentas e ambientes.\n",
    "\n"
   ]
  },
  {
   "cell_type": "code",
   "execution_count": 12,
   "metadata": {},
   "outputs": [
    {
     "name": "stdout",
     "output_type": "stream",
     "text": [
      "Dados Inseridos com sucesso!\n"
     ]
    }
   ],
   "source": [
    "# Importando as bibliotecas necessárias: \n",
    "\n",
    "import pandas as pd # Manipulação de dados\n",
    "from sqlalchemy import create_engine # Criação de motor de conexão com bancos de dados\n",
    "import urllib # Manipulação de URLs\n",
    "\n",
    "\n",
    "# Lendo o arquivo CSV e armazenar os dados em um DataFrame\n",
    "employees_df = pd.read_csv(r\"C:\\Users\\Rafa\\Downloads\\HR_employees.csv\")\n",
    "\n",
    "\n",
    "# Definindo a string de conexão com o banco de dados SQL Server\n",
    "\n",
    "dados_conexao = (f'DRIVER={{ODBC Driver 17 for SQL Server}};' # Definindo o driver ODBC\n",
    "                 'SERVER=DESKTOP-UKM244V;'                    # Nome do servidor SQL\n",
    "                 'DATABASE=Recursos_Humanos;'                 # Nome do banco de dados\n",
    "                 'UID=DESKTOP-UKM244V\\\\Rafa;'                 # ID do usuário (no caso, a máquina e o usuário)\n",
    "                 'Trusted_Connection=yes'                     # Definindo como conexão confiável\n",
    "                 ) \n",
    "\n",
    "\n",
    "# Codificando a string de conexão para uso na URL do motor de conexão\n",
    "parametros = urllib.parse.quote_plus(dados_conexao)\n",
    "\n",
    "\n",
    "# Criando o motor de conexão usando SQLAlchemy e a string de conexão codificada acima\n",
    "engine = create_engine(f'mssql+pyodbc:///?odbc_connect={parametros}')\n",
    "\n",
    "\n",
    "# Inserindo os dados do DataFrame no banco de dados do SQL Server;\n",
    "# Se a tabela 'Camada_bruta' já existir, ela será substituída\n",
    "# O parâmetro index=False indica que o índice do DataFrame não deve ser incluído na tabela do banco de dados\n",
    "employees_df.to_sql('Camada_bruta', con=engine, if_exists='replace', index=False)\n",
    "\n",
    "\n",
    "# Exibindo uma mensagem indicando que os dados foram inseridos com sucesso\n",
    "print ('Dados Inseridos com sucesso!')"
   ]
  }
 ],
 "metadata": {
  "kernelspec": {
   "display_name": "Python 3",
   "language": "python",
   "name": "python3"
  },
  "language_info": {
   "codemirror_mode": {
    "name": "ipython",
    "version": 3
   },
   "file_extension": ".py",
   "mimetype": "text/x-python",
   "name": "python",
   "nbconvert_exporter": "python",
   "pygments_lexer": "ipython3",
   "version": "3.12.2"
  }
 },
 "nbformat": 4,
 "nbformat_minor": 2
}
