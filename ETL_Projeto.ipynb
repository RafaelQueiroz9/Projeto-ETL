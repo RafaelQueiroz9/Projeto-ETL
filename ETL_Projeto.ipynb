{
 "cells": [
  {
   "cell_type": "code",
   "execution_count": 12,
   "metadata": {},
   "outputs": [
    {
     "name": "stdout",
     "output_type": "stream",
     "text": [
      "Dados Inseridos com sucesso!\n"
     ]
    }
   ],
   "source": [
    "import pandas as pd\n",
    "from sqlalchemy import create_engine\n",
    "import urllib\n",
    "\n",
    "\n",
    "\n",
    "employees_df = pd.read_csv(r\"C:\\Users\\Rafa\\Downloads\\HR_employees.csv\")\n",
    "\n",
    "\n",
    "dados_conexao = (f'DRIVER={{ODBC Driver 17 for SQL Server}};SERVER=DESKTOP-UKM244V;DATABASE=Recursos_Humanos; UID=DESKTOP-UKM244V\\\\Rafa; Trusted_Connection=yes') \n",
    "\n",
    "parametros = urllib.parse.quote_plus(dados_conexao)\n",
    "\n",
    "engine = create_engine(f'mssql+pyodbc:///?odbc_connect={parametros}')\n",
    "\n",
    "employees_df.to_sql('Camada_bruta', con=engine, if_exists='replace', index=False)\n",
    "\n",
    "print ('Dados Inseridos com sucesso!')"
   ]
  }
 ],
 "metadata": {
  "kernelspec": {
   "display_name": "Python 3",
   "language": "python",
   "name": "python3"
  },
  "language_info": {
   "codemirror_mode": {
    "name": "ipython",
    "version": 3
   },
   "file_extension": ".py",
   "mimetype": "text/x-python",
   "name": "python",
   "nbconvert_exporter": "python",
   "pygments_lexer": "ipython3",
   "version": "3.12.2"
  }
 },
 "nbformat": 4,
 "nbformat_minor": 2
}
